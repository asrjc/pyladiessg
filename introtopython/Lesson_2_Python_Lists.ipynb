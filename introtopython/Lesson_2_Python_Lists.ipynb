{
  "nbformat": 4,
  "nbformat_minor": 0,
  "metadata": {
    "colab": {
      "provenance": []
    },
    "kernelspec": {
      "name": "python3",
      "display_name": "Python 3"
    },
    "language_info": {
      "name": "python"
    }
  },
  "cells": [
    {
      "cell_type": "markdown",
      "source": [
        "## Lesson 2: Managing Data with Arrays in Python "
      ],
      "metadata": {
        "id": "JkuNmAZEjjWM"
      }
    },
    {
      "cell_type": "code",
      "source": [
        "# creating a list\n",
        "fruits = ['cherry','apple','orange'] # index goes from 0,1,2\n",
        "\n",
        "#index of element\n",
        "cherry_id = fruits.index('cherry') # should return 0\n",
        "\n",
        "print(cherry_id)\n",
        "# to find the first item\n",
        "print(fruits[0])"
      ],
      "metadata": {
        "colab": {
          "base_uri": "https://localhost:8080/"
        },
        "id": "Y87h86x0zS7M",
        "outputId": "658fb1c1-a67b-4424-f352-015b32df5e4d"
      },
      "execution_count": null,
      "outputs": [
        {
          "output_type": "stream",
          "name": "stdout",
          "text": [
            "0\n",
            "cherry\n"
          ]
        }
      ]
    },
    {
      "cell_type": "code",
      "source": [
        "\n",
        "#Creation of the list \n",
        "fruits = ['bannana', 'cherry', 'apple', 'orange', 'pear']\n",
        "\n",
        "# How to access index of a list\n",
        "index = fruits.index(\"cherry\")\n",
        "print(index)  # Output: 1\n",
        "\n",
        "# print first item in list\n",
        "print(fruits[0])"
      ],
      "metadata": {
        "colab": {
          "base_uri": "https://localhost:8080/"
        },
        "id": "2CespmZ_a9rl",
        "outputId": "04524eb0-eeaf-48ae-c5ff-3983b961ee1d"
      },
      "execution_count": null,
      "outputs": [
        {
          "output_type": "stream",
          "name": "stdout",
          "text": [
            "1\n"
          ]
        }
      ]
    },
    {
      "cell_type": "markdown",
      "source": [
        "Managing data with arrays (Python 1D lists)\n",
        "List management methods\n",
        "- append()\n",
        "- pop()\n",
        "- insert()\n",
        "- remove()\n",
        "- count()\n",
        "\n",
        "Functions:\n",
        "- len()\n",
        "\n"
      ],
      "metadata": {
        "id": "wk49TDGegt-R"
      }
    },
    {
      "cell_type": "markdown",
      "source": [
        "1. Append()\n",
        " \n",
        "What it does?: Adds an element to the end of a list."
      ],
      "metadata": {
        "id": "fhm7_nYSg9Bn"
      }
    },
    {
      "cell_type": "code",
      "source": [
        "fruits = [\"bannana\", \"apple\", \"orange\", \"pear\"] \n",
        "fruits.append(\"lemon\") \n",
        "print(fruits)"
      ],
      "metadata": {
        "colab": {
          "base_uri": "https://localhost:8080/"
        },
        "id": "xhdzMhcJhkqs",
        "outputId": "54ba86ff-e49a-4ff7-943d-9d89db899845"
      },
      "execution_count": null,
      "outputs": [
        {
          "output_type": "stream",
          "name": "stdout",
          "text": [
            "['bannana', 'apple', 'orange', 'pear', 'lemon']\n"
          ]
        }
      ]
    },
    {
      "cell_type": "markdown",
      "source": [
        "2. Len()\n",
        "\n",
        "What it does?: Returns the number of elements in a list."
      ],
      "metadata": {
        "id": "v0xPbM9YhtoH"
      }
    },
    {
      "cell_type": "code",
      "source": [
        "fruits = [\"bannana\", \"apple\", \"orange\", \"pear\"] \n",
        "print(len(fruits))"
      ],
      "metadata": {
        "colab": {
          "base_uri": "https://localhost:8080/"
        },
        "id": "iwfolxTwpsHU",
        "outputId": "75c39488-7de0-4aca-e827-964cafb81414"
      },
      "execution_count": null,
      "outputs": [
        {
          "output_type": "stream",
          "name": "stdout",
          "text": [
            "4\n"
          ]
        }
      ]
    },
    {
      "cell_type": "markdown",
      "source": [
        "3. pop()\n",
        "\n",
        "What it does?: Removes and returns the element at a given index. If no index is specified, it removes and returns the last element."
      ],
      "metadata": {
        "id": "W4BGjgo9h84c"
      }
    },
    {
      "cell_type": "code",
      "source": [
        "fruits = [\"bannana\", \"apple\", \"orange\", \"pear\"] \n",
        "fruits.pop(1)\n",
        "print(fruits)"
      ],
      "metadata": {
        "colab": {
          "base_uri": "https://localhost:8080/"
        },
        "id": "pkd7TEUOqH8y",
        "outputId": "f451918b-89a9-45a2-ae5b-153f5e67db11"
      },
      "execution_count": null,
      "outputs": [
        {
          "output_type": "stream",
          "name": "stdout",
          "text": [
            "['bannana', 'orange', 'pear']\n"
          ]
        }
      ]
    },
    {
      "cell_type": "markdown",
      "source": [
        "4. insert()\n",
        "\n",
        "What it does?: Inserts an element at a specific position in the list."
      ],
      "metadata": {
        "id": "YZt-NIyGiP5k"
      }
    },
    {
      "cell_type": "code",
      "source": [
        "fruits = [\"bannana\", \"apple\", \"orange\", \"pear\"] \n",
        "fruits.insert(1,\"cherry\")\n",
        "print(fruits)"
      ],
      "metadata": {
        "colab": {
          "base_uri": "https://localhost:8080/"
        },
        "id": "9-EjZdGxqcwX",
        "outputId": "994cb6af-9a03-4e29-bb7a-5598946a8af5"
      },
      "execution_count": null,
      "outputs": [
        {
          "output_type": "stream",
          "name": "stdout",
          "text": [
            "['bannana', 'cherry', 'apple', 'orange', 'pear']\n"
          ]
        }
      ]
    },
    {
      "cell_type": "markdown",
      "source": [
        "5. remove()\n",
        "\n",
        "What it does?: Removes the first occurrence of a specified element from the list.\n"
      ],
      "metadata": {
        "id": "GiQHDXMVinSR"
      }
    },
    {
      "cell_type": "code",
      "source": [
        "fruits = [\"bannana\", \"apple\", \"orange\", \"pear\",\"apple\"] \n",
        "fruits.remove(\"apple\")\n",
        "print(fruits)"
      ],
      "metadata": {
        "colab": {
          "base_uri": "https://localhost:8080/"
        },
        "id": "RNkyvxK0qwaM",
        "outputId": "e00c1dc2-55b2-46d0-af90-f43d7c2d3ee5"
      },
      "execution_count": null,
      "outputs": [
        {
          "output_type": "stream",
          "name": "stdout",
          "text": [
            "['bannana', 'orange', 'pear', 'apple']\n"
          ]
        }
      ]
    },
    {
      "cell_type": "markdown",
      "source": [
        "6. count()\n",
        "\n",
        "What it does?: Returns the number of occurrences of a specified element in the list."
      ],
      "metadata": {
        "id": "Zg838Bp5ipJt"
      }
    },
    {
      "cell_type": "code",
      "source": [
        "fruits = [\"bannana\", \"apple\", \"orange\", \"pear\",\"apple\"] \n",
        "count = fruits.count(\"apple\")\n",
        "print(count)\n"
      ],
      "metadata": {
        "colab": {
          "base_uri": "https://localhost:8080/"
        },
        "id": "f-4slWm6rIBN",
        "outputId": "f54f2cf9-70f6-4dec-9041-3a6dffc9b1e9"
      },
      "execution_count": null,
      "outputs": [
        {
          "output_type": "stream",
          "name": "stdout",
          "text": [
            "2\n"
          ]
        }
      ]
    }
  ]
}
