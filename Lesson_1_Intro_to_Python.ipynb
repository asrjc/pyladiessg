{
  "nbformat": 4,
  "nbformat_minor": 0,
  "metadata": {
    "colab": {
      "provenance": []
    },
    "kernelspec": {
      "name": "python3",
      "display_name": "Python 3"
    },
    "language_info": {
      "name": "python"
    }
  },
  "cells": [
    {
      "cell_type": "markdown",
      "source": [
        "# **Welcome to Intro to Python by a group of ASR Champions!**\n",
        "\n",
        "---\n",
        "\n",
        "\n",
        "\n",
        "We'll do the code here."
      ],
      "metadata": {
        "id": "gxmEcoz88qdZ"
      }
    },
    {
      "cell_type": "markdown",
      "source": [
        "##**Sub lesson:** <br>\n",
        "Hashtags (#) in Python\n"
      ],
      "metadata": {
        "id": "ABM2eY0A5wrD"
      }
    },
    {
      "cell_type": "code",
      "execution_count": null,
      "metadata": {
        "id": "vJPjHkZk6GMS",
        "colab": {
          "base_uri": "https://localhost:8080/"
        },
        "outputId": "d77e7366-59c2-4792-e0ad-2127cde434ce"
      },
      "outputs": [
        {
          "output_type": "stream",
          "name": "stdout",
          "text": [
            "Therefore this is read by the machine\n"
          ]
        }
      ],
      "source": [
        "# this is a comment, a comment always starts with a hashtag\n",
        "# comments are ignored by the computer\n",
        "# you can even put comments after the line of code\n",
        "print(\"Therefore this is read by the machine\") # print(\"while this is not read by the computer\")"
      ]
    },
    {
      "cell_type": "code",
      "source": [
        "# We are going to print our name here:\n",
        "# Ensure text that want to be printed must be wrapped in inverted commas\n",
        "print('12345')"
      ],
      "metadata": {
        "id": "Q3hS--wQ12Lj",
        "colab": {
          "base_uri": "https://localhost:8080/"
        },
        "outputId": "f5dd0ca2-d17a-4ad7-db45-b5e63da6b92b"
      },
      "execution_count": null,
      "outputs": [
        {
          "output_type": "stream",
          "name": "stdout",
          "text": [
            "12345\n"
          ]
        }
      ]
    },
    {
      "cell_type": "markdown",
      "source": [
        "---\n",
        "# **Lesson 1a: Variables + Strings/Integers**\n",
        "\n",
        "_We all start somewhere_ <br> <br>\n",
        "\n",
        "\n",
        "## Variable Naming Rules\n",
        "When naming variables, there are a few rules to follow:\n",
        "- Variable names must start with a letter or an underscore.\n",
        "- Variable names can only contain letters, numbers, and underscores.\n",
        "- Variable names are case-sensitive, meaning `Name` and `name` are considered different variables. <br> <br>\n",
        "\n",
        "Let's create our first variable:"
      ],
      "metadata": {
        "id": "CvA9FkiQKMHd"
      }
    },
    {
      "cell_type": "code",
      "source": [
        "# make a variable of string datatype called name and set it to your name\n",
        "# print name\n",
        "name='yi xuan'\n",
        "print(name)\n",
        "# now make a variable of integer datatype called age and put your age\n",
        "# print age\n",
        "age = 20\n",
        "print(age)"
      ],
      "metadata": {
        "id": "qixlawE_QYuW",
        "colab": {
          "base_uri": "https://localhost:8080/"
        },
        "outputId": "aa5de656-e3a3-4152-e3b6-9033876df6f8"
      },
      "execution_count": null,
      "outputs": [
        {
          "output_type": "stream",
          "name": "stdout",
          "text": [
            "yi xuan\n",
            "17\n"
          ]
        }
      ]
    },
    {
      "cell_type": "markdown",
      "source": [
        "## Python Strings\n",
        "\n",
        "### Creating Strings <br>\n",
        "_the adventure begins_"
      ],
      "metadata": {
        "id": "-uYvB5lPI5q8"
      }
    },
    {
      "cell_type": "code",
      "source": [
        "# Strings can be created using single quotes ('') or double quotes (\"\")\n",
        "# Create a variable named string1 and string2 and give them both a string\n",
        "string1 = \"hello\"\n",
        "string2 = 'hi'\n",
        "# Strings can also be created using triple quotes for multi-line strings\n",
        "# Create a variable named string3 and use triple quotes to define it as a multi-line string\n",
        "string3 = \"\"\"\n",
        "Hi everyone\n",
        "Hope you are loving this workshop right now.\n",
        "\"\"\"\n",
        "\n",
        "\n",
        "# Print string1 string2 and string3\n",
        "print(string1)\n",
        "print(string2)\n",
        "print(string3)"
      ],
      "metadata": {
        "id": "Y-9_1TXJHuJR",
        "colab": {
          "base_uri": "https://localhost:8080/"
        },
        "outputId": "f99094b8-97df-468c-f4ac-4aacf1131377"
      },
      "execution_count": null,
      "outputs": [
        {
          "output_type": "stream",
          "name": "stdout",
          "text": [
            "hello\n",
            "hi\n",
            "\n",
            "Hi everyone\n",
            "Hope you are loving this workshop right now.\n",
            "\n"
          ]
        }
      ]
    },
    {
      "cell_type": "markdown",
      "source": [
        "### String functions"
      ],
      "metadata": {
        "id": "zu2aO54EKSGz"
      }
    },
    {
      "cell_type": "code",
      "source": [
        "# Strings have various built-in methods for manipulation and analysis\n",
        "string1 = \"\"\n",
        "string2 = \"\"\n",
        "string3 = \"\"\n",
        "# Length of a string1\n",
        "length = \n",
        "\n",
        "# Converting to uppercase and lowercase\n",
        "uppercase = \n",
        "lowercase = \n",
        "\n",
        "\n",
        "# Concatenating (Joining) strings together\n",
        "concatenated_string = \n",
        "# notice that the ' ' is needed to provide a space between the two strings, try removing the ' ' and see what happens"
      ],
      "metadata": {
        "id": "zQudLDd8LK9O",
        "colab": {
          "base_uri": "https://localhost:8080/"
        },
        "outputId": "019ee49e-678a-43b8-eec8-668b291298e1"
      },
      "execution_count": null,
      "outputs": [
        {
          "output_type": "stream",
          "name": "stdout",
          "text": [
            "DEF\n",
            "def\n",
            "abc dEf\n"
          ]
        }
      ]
    },
    {
      "cell_type": "markdown",
      "source": [
        "## Python Integers\n",
        "\n",
        "### Creating Integers <br>\n",
        "_\"I don't like math :(\"_  \n",
        "_~ a pyboy_"
      ],
      "metadata": {
        "id": "-mG60uYoMWU-"
      }
    },
    {
      "cell_type": "code",
      "source": [
        "#integer\n",
        "x=30\n",
        "print(type(x))"
      ],
      "metadata": {
        "id": "Rytz1FrfyV8V",
        "colab": {
          "base_uri": "https://localhost:8080/"
        },
        "outputId": "65a79794-cd70-4c82-de51-44457a17f5a8"
      },
      "execution_count": null,
      "outputs": [
        {
          "output_type": "stream",
          "name": "stdout",
          "text": [
            "<class 'int'>\n"
          ]
        }
      ]
    },
    {
      "cell_type": "code",
      "source": [
        "# Integers can be created using regular numeric notation\n",
        "num1 = 10\n",
        "num2 = 3\n",
        "\n",
        "# Try messing around with operators, maybe even the values of number1 and number2, see what you get!\n",
        "addition = num1 +num2\n",
        "subtraction = num1-num2\n",
        "multiplication = num1*num2\n",
        "division = num1/num2\n",
        "\n",
        "print(addition)\n",
        "print(subtraction)\n",
        "print(multiplication)\n",
        "print(division)\n",
        "\n",
        "remainder = num1 % num2\n",
        "print(remainder)\n",
        "\n",
        "power = num1 ** num2\n",
        "print(power)"
      ],
      "metadata": {
        "id": "uHFBPMgKMdou",
        "colab": {
          "base_uri": "https://localhost:8080/"
        },
        "outputId": "2c50d10f-147a-46b7-a360-9e8c3014e551"
      },
      "execution_count": null,
      "outputs": [
        {
          "output_type": "stream",
          "name": "stdout",
          "text": [
            "13\n",
            "7\n",
            "30\n",
            "3.3333333333333335\n",
            "1\n",
            "1000\n"
          ]
        }
      ]
    },
    {
      "cell_type": "markdown",
      "source": [
        "### Converting Between Datatypes\n"
      ],
      "metadata": {
        "id": "4gHtUk4JNsjB"
      }
    },
    {
      "cell_type": "code",
      "source": [
        "# We can convert integers to strings and vice versa \n",
        "num1 = 10\n",
        "num2 = 10.11\n",
        "\n",
        "# converts int to string\n",
        "num_as_string = \n",
        "# converts string to int\n",
        "num_as_integer = \n",
        "\n",
        "# type() is python's way of checking the datatype\n",
        "print(type(num_as_string))\n",
        "# try the same command with string_as_number\n"
      ],
      "metadata": {
        "id": "LnTV5JM7NweN",
        "colab": {
          "base_uri": "https://localhost:8080/"
        },
        "outputId": "d620528e-afee-4e43-ed94-e3beaf6cea2d"
      },
      "execution_count": null,
      "outputs": [
        {
          "output_type": "stream",
          "name": "stdout",
          "text": [
            "<class 'str'>\n"
          ]
        }
      ]
    },
    {
      "cell_type": "markdown",
      "source": [
        "---\n",
        "# **Lesson 1b: Float/Boolean + Inputs**\n",
        "\n",
        "_Second part whoohoo_ <br> <br>\n",
        "\n",
        "## Python Floats\n",
        "\n",
        "### Creating Floats"
      ],
      "metadata": {
        "id": "58xvdUhlO6T0"
      }
    },
    {
      "cell_type": "code",
      "source": [
        "# Floats are numbers with a decimal points\n",
        "\n",
        "float1 = 3.14\n",
        "float2 = 2.0\n",
        "float3 = -0.5\n",
        "float4 = 1e-3  # Scientific notation of 10^, equivalent to 0.001\n",
        "\n",
        "# Arithmetic Operations (but with floats this time!)\n",
        "# Floats support the same arithmetic operations as integers\n",
        "\n",
        "addition = float1 + float2\n",
        "subtraction = float1 - float3\n",
        "multiplication = float2 * float3\n",
        "division = float1 / float2\n",
        "# Again, mess around, find out!\n",
        "print(2.0 + 1.5)\n",
        "print(10**-2)\n"
      ],
      "metadata": {
        "id": "9IZyB0J8Pbqg",
        "colab": {
          "base_uri": "https://localhost:8080/"
        },
        "outputId": "386ba624-bea8-44fb-99d2-311ae06ce35c"
      },
      "execution_count": null,
      "outputs": [
        {
          "output_type": "stream",
          "name": "stdout",
          "text": [
            "3.5\n",
            "0.01\n"
          ]
        }
      ]
    },
    {
      "cell_type": "markdown",
      "source": [
        "## Python Booleans\n",
        "\n",
        "### Creating Booleans <br>\n",
        "_\"my_brain = False\"_ <br>\n",
        "_~ a pyboy_\n"
      ],
      "metadata": {
        "id": "Y-amhznvP_Fx"
      }
    },
    {
      "cell_type": "code",
      "source": [
        "# Booleans represent the truth values True and False\n",
        "# Make SURE to capitalise the first letters of True and False, else it won't work\n",
        "# Create two variables bool1 and bool2 assigning the value True or False\n",
        "bool1 = True\n",
        "bool2 = False\n",
        "\n",
        "# Comparison Operators\n",
        "# Comparison operators are used to compare values\n",
        "equal = 5 == 5 \n",
        "greater_than = 10 > 5\n",
        "greater_than_or_equal_to = 10 >= 5\n",
        "less_than_equal = 5 < 10\n",
        "less_than_or_equal_to = 5 <= 10\n",
        "not_equal = 5 != 10\n",
        "\n",
        "\n",
        "# Logical Operators\n",
        "# Logical operators are used to combine boolean values\n",
        "# True -> 1\n",
        "# False -> 0\n",
        "\n",
        "print(True and False)\n",
        "print(True or False)\n",
        "print(not True)"
      ],
      "metadata": {
        "id": "9MfZClK1QELS",
        "colab": {
          "base_uri": "https://localhost:8080/"
        },
        "outputId": "16b75e9b-5f9c-4f25-9027-4c86e5d9f13e"
      },
      "execution_count": null,
      "outputs": [
        {
          "output_type": "stream",
          "name": "stdout",
          "text": [
            "False\n",
            "True\n",
            "False\n"
          ]
        }
      ]
    },
    {
      "cell_type": "markdown",
      "source": [
        "# **Lesson 1c: Input**\n",
        "## Getting User Input\n",
        "\n",
        "### What is user input?\n",
        "\n",
        "User input refers to the data provided by the user during program execution. It allows users to interact with the program and provide  values. In Python, we can obtain user input using the `input()` function.\n",
        "\n",
        "### The `input()` function\n",
        "\n",
        "The `input()` function is used to prompt the user for input. The function reads the input from the user and returns it.\n"
      ],
      "metadata": {
        "id": "FGWDtUvjQq12"
      }
    },
    {
      "cell_type": "code",
      "source": [
        "# The text inside of the brackets is the prompt the user will see, try changing it\n",
        "name = input(\"Enter your name: \") \n",
        "print(\"Hello, \" + name + \"!\")\n",
        "# Run the code and see how it works\n"
      ],
      "metadata": {
        "colab": {
          "base_uri": "https://localhost:8080/"
        },
        "id": "diqpfeSII2nn",
        "outputId": "8f879279-6ce1-47bd-9c6d-f9ef8e342c20"
      },
      "execution_count": null,
      "outputs": [
        {
          "output_type": "stream",
          "name": "stdout",
          "text": [
            "Enter your name: ying xuan\n",
            "Hello, ying xuan!\n"
          ]
        }
      ]
    },
    {
      "cell_type": "code",
      "source": [
        "# Create a variable age, and use the input function to assign the value age by the user\n",
        "age = input(\"Enter your age: \")\n",
        "# Print your age in a setence\n",
        "print(\"Your age is \" + age)"
      ],
      "metadata": {
        "colab": {
          "base_uri": "https://localhost:8080/"
        },
        "id": "9XtGsesN8ClR",
        "outputId": "156ee9ff-d33d-4b10-9a12-8fe9796b2655"
      },
      "execution_count": null,
      "outputs": [
        {
          "output_type": "stream",
          "name": "stdout",
          "text": [
            "Enter your age: 15\n",
            "Your age is: 15\n"
          ]
        }
      ]
    },
    {
      "cell_type": "markdown",
      "source": [
        "### Converting input to other datatypes\n",
        "By default, the input() function returns a string. If you want to work with numerical data, you'll need to convert the input to the appropriate data type, which we learnt in lesson 1a"
      ],
      "metadata": {
        "id": "QnsXl7NWKmzi"
      }
    },
    {
      "cell_type": "code",
      "source": [
        "# Example\n",
        "num = int(input(\"Enter a number: \"))\n",
        "print(\"This number multiplied by 2 is:\", num * 2)"
      ],
      "metadata": {
        "colab": {
          "base_uri": "https://localhost:8080/"
        },
        "id": "hoYntOhvK-KN",
        "outputId": "4b469941-c936-4ff4-8e91-06b547d1133c"
      },
      "execution_count": null,
      "outputs": [
        {
          "output_type": "stream",
          "name": "stdout",
          "text": [
            "Enter a number: 2\n",
            "This number multiplied by 2 is: 4\n"
          ]
        }
      ]
    },
    {
      "cell_type": "markdown",
      "source": [
        "We can also do datatype(input()) to directly convert the input into you desired datatype"
      ],
      "metadata": {
        "id": "bQ0hNAAM8RB2"
      }
    },
    {
      "cell_type": "code",
      "source": [
        "# Example\n",
        "directly_string = input(\"Put anything: \") # default is string\n",
        "# Try NOT giving an integer, see how python reacts\n",
        "directly_int = int(input(\"Put a integer: \")) \n",
        "print(directly_string + \" is a \" + str(type(directly_string)))\n",
        "print(str(directly_int) + \" is a \" + str(type(directly_int)))"
      ],
      "metadata": {
        "colab": {
          "base_uri": "https://localhost:8080/"
        },
        "id": "iC8D6yH08cws",
        "outputId": "21877f57-2104-4c53-efe9-8cb4a77f85fb"
      },
      "execution_count": null,
      "outputs": [
        {
          "output_type": "stream",
          "name": "stdout",
          "text": [
            "Put anything: hello\n",
            "Put a integer: 7\n",
            "hello is a <class 'str'>\n",
            "7 is a <class 'int'>\n"
          ]
        }
      ]
    },
    {
      "cell_type": "markdown",
      "source": [
        "# **Lesson 2: If-else statements**\n",
        "_this needs conditioning_\n",
        "\n",
        "\n",
        "If gives the idea of a condition that needs to be fufilled or satissfied before a certain result can be achieved <br>\n",
        "For example: <br>\n",
        "If you have already eaten, you cannot have a second helping "
      ],
      "metadata": {
        "id": "UiTeamPM-jqp"
      }
    },
    {
      "cell_type": "code",
      "source": [
        "#if_else statements\n",
        "if x == 1:\n",
        "  print(\"Yes\")\n",
        "else:\n",
        "  print(\"No\")\n",
        "\n",
        "# Value\n",
        "\n",
        "x = 1\n",
        "\n",
        "if x == 1:\n",
        "  print('yes')\n",
        "  \n",
        "else:\n",
        "  print('no')"
      ],
      "metadata": {
        "id": "q879ylcr_ucs"
      },
      "execution_count": null,
      "outputs": []
    },
    {
      "cell_type": "markdown",
      "source": [
        "### Elif statements\n",
        "Elif statements elp add aditional conditions to the current conditions. <br>\n",
        "For example: <br>\n",
        "If x = 1 , print one <br>\n",
        "Elif x = 2 , print two <br>\n",
        "Else , print none\n"
      ],
      "metadata": {
        "id": "dZC4tQgyBKag"
      }
    },
    {
      "cell_type": "code",
      "source": [
        "#game example\n",
        "x = 1\n",
        "if x == 1:\n",
        "  print(\"yes\")\n",
        "elif x == 2:\n",
        "  print(\"maybe\")\n",
        "elif x == 3:\n",
        "  print(\"\")\n",
        "else:\n",
        "  print(\"no\")"
      ],
      "metadata": {
        "id": "lAdwUZHvCTw9",
        "colab": {
          "base_uri": "https://localhost:8080/"
        },
        "outputId": "c6c1d0c7-153f-4d22-d958-f65abf9a1d75"
      },
      "execution_count": null,
      "outputs": [
        {
          "output_type": "stream",
          "name": "stdout",
          "text": [
            "yes\n"
          ]
        }
      ]
    },
    {
      "cell_type": "markdown",
      "source": [
        "### Example for challenge \n"
      ],
      "metadata": {
        "id": "JErqjGfZCxKd"
      }
    },
    {
      "cell_type": "code",
      "source": [
        "#Shopping chatbot\n",
        "\n",
        "print(\"Hi! I am your friendly chatbot shopper at hello.com\")\n",
        "\n",
        "name = input(\"May I know your name? \")\n",
        "name = name.title()\n",
        "print(\"Hello \", name, \"! Nice to meet you!\" )\n",
        "amount = 0\n",
        "\n",
        "while True:\n",
        "  print(\"Type the game you would like to purchase. We have: Flappy Bird, Gta, Super Mario, Roblox and Minecraft. \")\n",
        "  game = input(\"\")\n",
        "  game = game.title()\n",
        "  if game == \"Flappy Bird\":\n",
        "    amount = amount + 0.5\n",
        "  elif game == \"Gta\":\n",
        "    amount = amount + 30\n",
        "  elif game == \"Super Mario\":\n",
        "    amount = amount + 5\n",
        "  elif game == \"Roblox\":\n",
        "    amount = amount + 10\n",
        "  elif game == \"Minecraft\":\n",
        "    amount = amount + 26.95\n",
        "  else:\n",
        "    print(\"Sorry, we dont have that game, but you can give us 100 dollars.\")\n",
        "\n",
        "print(\"Would you like to purchase a limited edition T-Shirt with your game? They are $10 each.\")\n",
        "print(\"If so, how many?\")\n",
        "t_shirt = input(\"\")\n",
        "t_shirt = int(t_shirt)\n",
        "\n",
        "if t_shirt < 0:\n",
        "  t_shirt_conv = t_shirt * -1\n",
        "else:\n",
        "  t_shirt_conv = t_shirt\n",
        "\n",
        "amount = amount + (int(t_shirt_conv)*10)\n",
        "print(\"Ok! Your total purchase would be $\", amount)\n",
        "\n",
        "print(\"Where would you like your items to be delivered?\")\n",
        "address = input(\"\")\n",
        "\n",
        "print(\"Alright! Your package will be delivered to \",address, \"tomorrow. Thank you and have a nice day!:D \")\n"
      ],
      "metadata": {
        "id": "-E9zDB9jDFSS",
        "colab": {
          "base_uri": "https://localhost:8080/"
        },
        "outputId": "97aecc33-c341-4f38-ad40-cb2639660248"
      },
      "execution_count": null,
      "outputs": [
        {
          "output_type": "stream",
          "name": "stdout",
          "text": [
            "Hi! I am your friendly chatbot shopper at hello.com\n",
            "May I know your name? HAHA\n",
            "Hello  Haha ! Nice to meet you!\n",
            "Type the game you would like to purchase. We  have: Flappy Bird, Gta, Super Mario, Roblox and Minecraft. \n",
            "SUPER SMASH BROS\n",
            "Sorry, we dont have that game, but you can give us 100 dollars.\n",
            "Type the game you would like to purchase. We  have: Flappy Bird, Gta, Super Mario, Roblox and Minecraft. \n",
            "Gta\n",
            "Sorry, we dont have that game, but you can give us 100 dollars.\n",
            "Type the game you would like to purchase. We  have: Flappy Bird, Gta, Super Mario, Roblox and Minecraft. \n",
            "GTA\n",
            "Sorry, we dont have that game, but you can give us 100 dollars.\n",
            "Type the game you would like to purchase. We  have: Flappy Bird, Gta, Super Mario, Roblox and Minecraft. \n",
            "Roblox\n",
            "Would you like to purchase a limited edition T-Shirt with your game? They are $10 each.\n",
            "If so, how many?\n",
            "100\n",
            "Ok! Your total purchase would be $ 1010\n",
            "Where would you like your items to be delivered?\n",
            "ur mom'\n",
            "Alright! Your package will be delivered to  ur mom' tomorrow. Thank you and have a nice day!:D \n"
          ]
        }
      ]
    }
  ]
}